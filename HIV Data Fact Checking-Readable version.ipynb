{
 "cells": [
  {
   "cell_type": "markdown",
   "metadata": {},
   "source": [
    "### This notebook shows the analysis for the article, \"Despite progress, HIV racial divide persists\" by Mackenzie Rigg and Jake Kara.\n",
    "Data can be found here: https://github.com/jakekara/hiv-new-england.git\n",
    "\n",
    "Skip to __\"Analysis Begins Here,\"__ as the first few blocks of code are just some setup functions."
   ]
  },
  {
   "cell_type": "code",
   "execution_count": 222,
   "metadata": {},
   "outputs": [],
   "source": [
    "import pandas as pd\n",
    "import warnings\n",
    "warnings.filterwarnings('ignore')"
   ]
  },
  {
   "cell_type": "code",
   "execution_count": 205,
   "metadata": {},
   "outputs": [],
   "source": [
    "# Jake Kara's code\n",
    "def time_series(df, cols=\"Year\", vals=\"Rate per 100000\", index=\"Geography\"):\n",
    "    \n",
    "    \"\"\" Convert a dataframe to a timeseries with one column per year \"\"\"\n",
    "    \n",
    "    return pd.pivot_table(df, columns=cols, \n",
    "                         values=vals,\n",
    "                         index=index)"
   ]
  },
  {
   "cell_type": "code",
   "execution_count": 206,
   "metadata": {},
   "outputs": [
    {
     "data": {
      "text/html": [
       "<div>\n",
       "<style scoped>\n",
       "    .dataframe tbody tr th:only-of-type {\n",
       "        vertical-align: middle;\n",
       "    }\n",
       "\n",
       "    .dataframe tbody tr th {\n",
       "        vertical-align: top;\n",
       "    }\n",
       "\n",
       "    .dataframe thead th {\n",
       "        text-align: right;\n",
       "    }\n",
       "</style>\n",
       "<table border=\"1\" class=\"dataframe\">\n",
       "  <thead>\n",
       "    <tr style=\"text-align: right;\">\n",
       "      <th>Year</th>\n",
       "      <th>2008</th>\n",
       "      <th>2009</th>\n",
       "      <th>2010</th>\n",
       "      <th>2011</th>\n",
       "      <th>2012</th>\n",
       "      <th>2013</th>\n",
       "      <th>2014</th>\n",
       "      <th>2015</th>\n",
       "    </tr>\n",
       "    <tr>\n",
       "      <th>Geography</th>\n",
       "      <th></th>\n",
       "      <th></th>\n",
       "      <th></th>\n",
       "      <th></th>\n",
       "      <th></th>\n",
       "      <th></th>\n",
       "      <th></th>\n",
       "      <th></th>\n",
       "    </tr>\n",
       "  </thead>\n",
       "  <tbody>\n",
       "    <tr>\n",
       "      <th>United States</th>\n",
       "      <td>314.0</td>\n",
       "      <td>322.2</td>\n",
       "      <td>329.7</td>\n",
       "      <td>336.8</td>\n",
       "      <td>343.5</td>\n",
       "      <td>349.6</td>\n",
       "      <td>355.8</td>\n",
       "      <td>362.3</td>\n",
       "    </tr>\n",
       "  </tbody>\n",
       "</table>\n",
       "</div>"
      ],
      "text/plain": [
       "Year            2008   2009   2010   2011   2012   2013   2014   2015\n",
       "Geography                                                            \n",
       "United States  314.0  322.2  329.7  336.8  343.5  349.6  355.8  362.3"
      ]
     },
     "execution_count": 206,
     "metadata": {},
     "output_type": "execute_result"
    }
   ],
   "source": [
    "test_df = pd.read_csv(\"data/atlas/us-prev-overall.csv\", skiprows=4)\n",
    "test_df.head()\n",
    "time_series(test_df)"
   ]
  },
  {
   "cell_type": "code",
   "execution_count": 207,
   "metadata": {},
   "outputs": [],
   "source": [
    "def make_column_numeric(df, column):\n",
    "    \"\"\"\n",
    "    Makes column into number types. Also removes commas from numbers.\n",
    "    \"\"\"\n",
    "    new_df = df.copy()\n",
    "    new_df[column] = new_df[column].apply(lambda x: str(x).replace(\",\", \"\")) # remove commas\n",
    "    new_df[column] = pd.to_numeric(new_df[column]) # make numeric\n",
    "    \n",
    "    return new_df"
   ]
  },
  {
   "cell_type": "code",
   "execution_count": 208,
   "metadata": {},
   "outputs": [],
   "source": [
    "def get_df(data):\n",
    "    \"\"\"\n",
    "    Returns a dataframe from the appropriate file path.\n",
    "    Argument 'data' must be a string that appropriately orders the atlas data stratifications, i.e. \"us-newdx-race\", not\n",
    "    \"newdx-race-us\".\n",
    "    \"\"\"\n",
    "    return pd.read_csv(\"data/atlas/\" + data + \".csv\", skiprows=4)\n",
    "    "
   ]
  },
  {
   "cell_type": "code",
   "execution_count": 209,
   "metadata": {},
   "outputs": [
    {
     "data": {
      "text/html": [
       "<div>\n",
       "<style scoped>\n",
       "    .dataframe tbody tr th:only-of-type {\n",
       "        vertical-align: middle;\n",
       "    }\n",
       "\n",
       "    .dataframe tbody tr th {\n",
       "        vertical-align: top;\n",
       "    }\n",
       "\n",
       "    .dataframe thead th {\n",
       "        text-align: right;\n",
       "    }\n",
       "</style>\n",
       "<table border=\"1\" class=\"dataframe\">\n",
       "  <thead>\n",
       "    <tr style=\"text-align: right;\">\n",
       "      <th></th>\n",
       "      <th>Indicator</th>\n",
       "      <th>Year</th>\n",
       "      <th>Geography</th>\n",
       "      <th>FIPS</th>\n",
       "      <th>Age Group</th>\n",
       "      <th>Race/Ethnicity</th>\n",
       "      <th>Sex</th>\n",
       "      <th>Transmission Category</th>\n",
       "      <th>Cases</th>\n",
       "      <th>Rate per 100000</th>\n",
       "      <th>Population</th>\n",
       "    </tr>\n",
       "  </thead>\n",
       "  <tbody>\n",
       "    <tr>\n",
       "      <th>0</th>\n",
       "      <td>HIV diagnoses</td>\n",
       "      <td>2009</td>\n",
       "      <td>United States</td>\n",
       "      <td>NaN</td>\n",
       "      <td>Ages 13 years and older</td>\n",
       "      <td>Asian</td>\n",
       "      <td>Both sexes</td>\n",
       "      <td>All transmission categories</td>\n",
       "      <td>668</td>\n",
       "      <td>5.9</td>\n",
       "      <td>11,327,168</td>\n",
       "    </tr>\n",
       "    <tr>\n",
       "      <th>1</th>\n",
       "      <td>HIV diagnoses</td>\n",
       "      <td>2009</td>\n",
       "      <td>United States</td>\n",
       "      <td>NaN</td>\n",
       "      <td>Ages 13 years and older</td>\n",
       "      <td>Black/African American</td>\n",
       "      <td>Both sexes</td>\n",
       "      <td>All transmission categories</td>\n",
       "      <td>21,006</td>\n",
       "      <td>69.3</td>\n",
       "      <td>30,297,991</td>\n",
       "    </tr>\n",
       "    <tr>\n",
       "      <th>2</th>\n",
       "      <td>HIV diagnoses</td>\n",
       "      <td>2009</td>\n",
       "      <td>United States</td>\n",
       "      <td>NaN</td>\n",
       "      <td>Ages 13 years and older</td>\n",
       "      <td>Hispanic/Latino</td>\n",
       "      <td>Both sexes</td>\n",
       "      <td>All transmission categories</td>\n",
       "      <td>9,759</td>\n",
       "      <td>27.3</td>\n",
       "      <td>35,697,102</td>\n",
       "    </tr>\n",
       "    <tr>\n",
       "      <th>3</th>\n",
       "      <td>HIV diagnoses</td>\n",
       "      <td>2010</td>\n",
       "      <td>United States</td>\n",
       "      <td>NaN</td>\n",
       "      <td>Ages 13 years and older</td>\n",
       "      <td>American Indian/Alaska Native</td>\n",
       "      <td>Both sexes</td>\n",
       "      <td>All transmission categories</td>\n",
       "      <td>163</td>\n",
       "      <td>9.0</td>\n",
       "      <td>1,806,922</td>\n",
       "    </tr>\n",
       "    <tr>\n",
       "      <th>4</th>\n",
       "      <td>HIV diagnoses</td>\n",
       "      <td>2010</td>\n",
       "      <td>United States</td>\n",
       "      <td>NaN</td>\n",
       "      <td>Ages 13 years and older</td>\n",
       "      <td>Asian</td>\n",
       "      <td>Both sexes</td>\n",
       "      <td>All transmission categories</td>\n",
       "      <td>683</td>\n",
       "      <td>5.5</td>\n",
       "      <td>12,425,870</td>\n",
       "    </tr>\n",
       "  </tbody>\n",
       "</table>\n",
       "</div>"
      ],
      "text/plain": [
       "       Indicator  Year      Geography  FIPS                Age Group  \\\n",
       "0  HIV diagnoses  2009  United States   NaN  Ages 13 years and older   \n",
       "1  HIV diagnoses  2009  United States   NaN  Ages 13 years and older   \n",
       "2  HIV diagnoses  2009  United States   NaN  Ages 13 years and older   \n",
       "3  HIV diagnoses  2010  United States   NaN  Ages 13 years and older   \n",
       "4  HIV diagnoses  2010  United States   NaN  Ages 13 years and older   \n",
       "\n",
       "                  Race/Ethnicity         Sex        Transmission Category  \\\n",
       "0                          Asian  Both sexes  All transmission categories   \n",
       "1         Black/African American  Both sexes  All transmission categories   \n",
       "2                Hispanic/Latino  Both sexes  All transmission categories   \n",
       "3  American Indian/Alaska Native  Both sexes  All transmission categories   \n",
       "4                          Asian  Both sexes  All transmission categories   \n",
       "\n",
       "    Cases  Rate per 100000  Population  \n",
       "0     668              5.9  11,327,168  \n",
       "1  21,006             69.3  30,297,991  \n",
       "2   9,759             27.3  35,697,102  \n",
       "3     163              9.0   1,806,922  \n",
       "4     683              5.5  12,425,870  "
      ]
     },
     "execution_count": 209,
     "metadata": {},
     "output_type": "execute_result"
    }
   ],
   "source": [
    "get_df(\"us-newdx-race\").head(5)"
   ]
  },
  {
   "cell_type": "code",
   "execution_count": 210,
   "metadata": {},
   "outputs": [],
   "source": [
    "def get_new_england(df):\n",
    "    \"\"\"\n",
    "    Returns the rows of df where Geography indicates a New England state.\n",
    "    \"\"\"\n",
    "    new_england = ['Connecticut', 'Maine', 'Massachusetts', 'Vermont', 'New Hampshire', 'Rhode Island']\n",
    "    return df[df['Geography'].isin(new_england)]"
   ]
  },
  {
   "cell_type": "markdown",
   "metadata": {},
   "source": [
    "## Analysis Begins Here"
   ]
  },
  {
   "cell_type": "markdown",
   "metadata": {},
   "source": [
    "#### \"Nationwide around one million adults and adolescents live with diagnosed HIV...\""
   ]
  },
  {
   "cell_type": "code",
   "execution_count": 211,
   "metadata": {},
   "outputs": [
    {
     "data": {
      "text/html": [
       "<div>\n",
       "<style scoped>\n",
       "    .dataframe tbody tr th:only-of-type {\n",
       "        vertical-align: middle;\n",
       "    }\n",
       "\n",
       "    .dataframe tbody tr th {\n",
       "        vertical-align: top;\n",
       "    }\n",
       "\n",
       "    .dataframe thead th {\n",
       "        text-align: right;\n",
       "    }\n",
       "</style>\n",
       "<table border=\"1\" class=\"dataframe\">\n",
       "  <thead>\n",
       "    <tr style=\"text-align: right;\">\n",
       "      <th></th>\n",
       "      <th>Indicator</th>\n",
       "      <th>Geography</th>\n",
       "      <th>Year</th>\n",
       "      <th>Cases</th>\n",
       "    </tr>\n",
       "  </thead>\n",
       "  <tbody>\n",
       "    <tr>\n",
       "      <th>0</th>\n",
       "      <td>HIV prevalence</td>\n",
       "      <td>United States</td>\n",
       "      <td>2015</td>\n",
       "      <td>971,524</td>\n",
       "    </tr>\n",
       "  </tbody>\n",
       "</table>\n",
       "</div>"
      ],
      "text/plain": [
       "        Indicator      Geography  Year    Cases\n",
       "0  HIV prevalence  United States  2015  971,524"
      ]
     },
     "execution_count": 211,
     "metadata": {},
     "output_type": "execute_result"
    }
   ],
   "source": [
    "us_prev = get_df(\"us-prev-overall\") # Get overall US prevalence data\n",
    "us_prev_trimmed = us_prev[['Indicator', 'Geography', 'Year', 'Cases']] # Look at just the info we want\n",
    "us_prev_trimmed[(us_prev_trimmed['Geography'] == 'United States') & (us_prev_trimmed['Year'] == 2015)]"
   ]
  },
  {
   "cell_type": "markdown",
   "metadata": {},
   "source": [
    "####  \"...including 36,000 in New England.\""
   ]
  },
  {
   "cell_type": "code",
   "execution_count": 228,
   "metadata": {},
   "outputs": [
    {
     "name": "stdout",
     "output_type": "stream",
     "text": [
      "Total cases in New England: Cases    35767\n",
      "dtype: int64\n"
     ]
    }
   ],
   "source": [
    "state_prev = get_df(\"state-prev-overall\") # Get prevalence data by state\n",
    "prev_new_england = get_new_england(state_prev) # Look at just New England\n",
    "prev_new_england = prev_new_england[['Cases']][prev_new_england['Year'] == 2015] # Grab 2015 data\n",
    "print(\"Total cases in New England: \" + str(make_column_numeric(prev_new_england, 'Cases').sum()))"
   ]
  },
  {
   "cell_type": "markdown",
   "metadata": {},
   "source": [
    "#### \"Fewer people have been diagnosed with HIV year after year.\""
   ]
  },
  {
   "cell_type": "code",
   "execution_count": 229,
   "metadata": {},
   "outputs": [
    {
     "data": {
      "text/html": [
       "<div>\n",
       "<style scoped>\n",
       "    .dataframe tbody tr th:only-of-type {\n",
       "        vertical-align: middle;\n",
       "    }\n",
       "\n",
       "    .dataframe tbody tr th {\n",
       "        vertical-align: top;\n",
       "    }\n",
       "\n",
       "    .dataframe thead th {\n",
       "        text-align: right;\n",
       "    }\n",
       "</style>\n",
       "<table border=\"1\" class=\"dataframe\">\n",
       "  <thead>\n",
       "    <tr style=\"text-align: right;\">\n",
       "      <th>Year</th>\n",
       "      <th>2008</th>\n",
       "      <th>2009</th>\n",
       "      <th>2010</th>\n",
       "      <th>2011</th>\n",
       "      <th>2012</th>\n",
       "      <th>2013</th>\n",
       "      <th>2014</th>\n",
       "      <th>2015</th>\n",
       "      <th>2016</th>\n",
       "    </tr>\n",
       "    <tr>\n",
       "      <th>Geography</th>\n",
       "      <th></th>\n",
       "      <th></th>\n",
       "      <th></th>\n",
       "      <th></th>\n",
       "      <th></th>\n",
       "      <th></th>\n",
       "      <th></th>\n",
       "      <th></th>\n",
       "      <th></th>\n",
       "    </tr>\n",
       "  </thead>\n",
       "  <tbody>\n",
       "    <tr>\n",
       "      <th>United States</th>\n",
       "      <td>19.2</td>\n",
       "      <td>18.0</td>\n",
       "      <td>17.0</td>\n",
       "      <td>16.1</td>\n",
       "      <td>15.7</td>\n",
       "      <td>15.0</td>\n",
       "      <td>15.1</td>\n",
       "      <td>14.8</td>\n",
       "      <td>14.7</td>\n",
       "    </tr>\n",
       "  </tbody>\n",
       "</table>\n",
       "</div>"
      ],
      "text/plain": [
       "Year           2008  2009  2010  2011  2012  2013  2014  2015  2016\n",
       "Geography                                                          \n",
       "United States  19.2  18.0  17.0  16.1  15.7  15.0  15.1  14.8  14.7"
      ]
     },
     "execution_count": 229,
     "metadata": {},
     "output_type": "execute_result"
    }
   ],
   "source": [
    "us_newdx = get_df('us-newdx-overall') # Get overall US new diagnoses data\n",
    "time_series(us_newdx[us_newdx['Geography'] == 'United States'])"
   ]
  },
  {
   "cell_type": "code",
   "execution_count": 231,
   "metadata": {},
   "outputs": [
    {
     "data": {
      "text/html": [
       "<div>\n",
       "<style scoped>\n",
       "    .dataframe tbody tr th:only-of-type {\n",
       "        vertical-align: middle;\n",
       "    }\n",
       "\n",
       "    .dataframe tbody tr th {\n",
       "        vertical-align: top;\n",
       "    }\n",
       "\n",
       "    .dataframe thead th {\n",
       "        text-align: right;\n",
       "    }\n",
       "</style>\n",
       "<table border=\"1\" class=\"dataframe\">\n",
       "  <thead>\n",
       "    <tr style=\"text-align: right;\">\n",
       "      <th>Year</th>\n",
       "      <th>2008</th>\n",
       "      <th>2009</th>\n",
       "      <th>2010</th>\n",
       "      <th>2011</th>\n",
       "      <th>2012</th>\n",
       "      <th>2013</th>\n",
       "      <th>2014</th>\n",
       "      <th>2015</th>\n",
       "      <th>2016</th>\n",
       "    </tr>\n",
       "    <tr>\n",
       "      <th>Geography</th>\n",
       "      <th></th>\n",
       "      <th></th>\n",
       "      <th></th>\n",
       "      <th></th>\n",
       "      <th></th>\n",
       "      <th></th>\n",
       "      <th></th>\n",
       "      <th></th>\n",
       "      <th></th>\n",
       "    </tr>\n",
       "  </thead>\n",
       "  <tbody>\n",
       "    <tr>\n",
       "      <th>Connecticut</th>\n",
       "      <td>12.2</td>\n",
       "      <td>12.1</td>\n",
       "      <td>13.1</td>\n",
       "      <td>11.8</td>\n",
       "      <td>9.6</td>\n",
       "      <td>10.7</td>\n",
       "      <td>9.5</td>\n",
       "      <td>8.9</td>\n",
       "      <td>8.2</td>\n",
       "    </tr>\n",
       "    <tr>\n",
       "      <th>Maine</th>\n",
       "      <td>4.0</td>\n",
       "      <td>4.9</td>\n",
       "      <td>4.9</td>\n",
       "      <td>4.3</td>\n",
       "      <td>4.1</td>\n",
       "      <td>2.8</td>\n",
       "      <td>4.8</td>\n",
       "      <td>4.0</td>\n",
       "      <td>4.3</td>\n",
       "    </tr>\n",
       "    <tr>\n",
       "      <th>Massachusetts</th>\n",
       "      <td>13.6</td>\n",
       "      <td>12.5</td>\n",
       "      <td>12.8</td>\n",
       "      <td>12.6</td>\n",
       "      <td>12.4</td>\n",
       "      <td>12.0</td>\n",
       "      <td>11.4</td>\n",
       "      <td>10.5</td>\n",
       "      <td>12.1</td>\n",
       "    </tr>\n",
       "    <tr>\n",
       "      <th>New Hampshire</th>\n",
       "      <td>3.9</td>\n",
       "      <td>3.6</td>\n",
       "      <td>4.5</td>\n",
       "      <td>3.5</td>\n",
       "      <td>4.2</td>\n",
       "      <td>3.0</td>\n",
       "      <td>3.6</td>\n",
       "      <td>2.1</td>\n",
       "      <td>3.6</td>\n",
       "    </tr>\n",
       "    <tr>\n",
       "      <th>Rhode Island</th>\n",
       "      <td>14.0</td>\n",
       "      <td>13.6</td>\n",
       "      <td>13.0</td>\n",
       "      <td>11.2</td>\n",
       "      <td>8.7</td>\n",
       "      <td>8.7</td>\n",
       "      <td>9.8</td>\n",
       "      <td>7.0</td>\n",
       "      <td>7.7</td>\n",
       "    </tr>\n",
       "    <tr>\n",
       "      <th>Vermont</th>\n",
       "      <td>3.6</td>\n",
       "      <td>3.4</td>\n",
       "      <td>3.9</td>\n",
       "      <td>2.2</td>\n",
       "      <td>2.8</td>\n",
       "      <td>2.2</td>\n",
       "      <td>3.5</td>\n",
       "      <td>2.4</td>\n",
       "      <td>1.5</td>\n",
       "    </tr>\n",
       "  </tbody>\n",
       "</table>\n",
       "</div>"
      ],
      "text/plain": [
       "Year           2008  2009  2010  2011  2012  2013  2014  2015  2016\n",
       "Geography                                                          \n",
       "Connecticut    12.2  12.1  13.1  11.8   9.6  10.7   9.5   8.9   8.2\n",
       "Maine           4.0   4.9   4.9   4.3   4.1   2.8   4.8   4.0   4.3\n",
       "Massachusetts  13.6  12.5  12.8  12.6  12.4  12.0  11.4  10.5  12.1\n",
       "New Hampshire   3.9   3.6   4.5   3.5   4.2   3.0   3.6   2.1   3.6\n",
       "Rhode Island   14.0  13.6  13.0  11.2   8.7   8.7   9.8   7.0   7.7\n",
       "Vermont         3.6   3.4   3.9   2.2   2.8   2.2   3.5   2.4   1.5"
      ]
     },
     "execution_count": 231,
     "metadata": {},
     "output_type": "execute_result"
    }
   ],
   "source": [
    "state_newdx = get_df('state-newdx-overall') # Get state-by-state new diagnsoes data\n",
    "time_series(get_new_england(state_newdx))"
   ]
  },
  {
   "cell_type": "markdown",
   "metadata": {},
   "source": [
    "#### \"The overall prevalence rate for HIV-- the number of people living with HIV-- was around 363 per 100,000 nationwide in 2015.\""
   ]
  },
  {
   "cell_type": "code",
   "execution_count": 232,
   "metadata": {},
   "outputs": [
    {
     "data": {
      "text/html": [
       "<div>\n",
       "<style scoped>\n",
       "    .dataframe tbody tr th:only-of-type {\n",
       "        vertical-align: middle;\n",
       "    }\n",
       "\n",
       "    .dataframe tbody tr th {\n",
       "        vertical-align: top;\n",
       "    }\n",
       "\n",
       "    .dataframe thead th {\n",
       "        text-align: right;\n",
       "    }\n",
       "</style>\n",
       "<table border=\"1\" class=\"dataframe\">\n",
       "  <thead>\n",
       "    <tr style=\"text-align: right;\">\n",
       "      <th></th>\n",
       "      <th>Indicator</th>\n",
       "      <th>Year</th>\n",
       "      <th>Geography</th>\n",
       "      <th>Rate per 100000</th>\n",
       "    </tr>\n",
       "  </thead>\n",
       "  <tbody>\n",
       "    <tr>\n",
       "      <th>0</th>\n",
       "      <td>HIV prevalence</td>\n",
       "      <td>2015</td>\n",
       "      <td>United States</td>\n",
       "      <td>362.3</td>\n",
       "    </tr>\n",
       "  </tbody>\n",
       "</table>\n",
       "</div>"
      ],
      "text/plain": [
       "        Indicator  Year      Geography  Rate per 100000\n",
       "0  HIV prevalence  2015  United States            362.3"
      ]
     },
     "execution_count": 232,
     "metadata": {},
     "output_type": "execute_result"
    }
   ],
   "source": [
    "us_prev = get_df(\"us-prev-overall\") # Get overall US prevalence data\n",
    "us_prev[['Indicator', 'Year', 'Geography', 'Rate per 100000']][us_prev['Year'] == 2015]"
   ]
  },
  {
   "cell_type": "markdown",
   "metadata": {},
   "source": [
    "#### \"The nationwide black prevalence rate was 1,238, and the Hispanic and Latino rate was 497. Meanwhile the rate among whites was 174.\""
   ]
  },
  {
   "cell_type": "code",
   "execution_count": 233,
   "metadata": {},
   "outputs": [
    {
     "data": {
      "text/html": [
       "<div>\n",
       "<style scoped>\n",
       "    .dataframe tbody tr th:only-of-type {\n",
       "        vertical-align: middle;\n",
       "    }\n",
       "\n",
       "    .dataframe tbody tr th {\n",
       "        vertical-align: top;\n",
       "    }\n",
       "\n",
       "    .dataframe thead th {\n",
       "        text-align: right;\n",
       "    }\n",
       "</style>\n",
       "<table border=\"1\" class=\"dataframe\">\n",
       "  <thead>\n",
       "    <tr style=\"text-align: right;\">\n",
       "      <th></th>\n",
       "      <th>Indicator</th>\n",
       "      <th>Geography</th>\n",
       "      <th>Race/Ethnicity</th>\n",
       "      <th>Rate per 100000</th>\n",
       "    </tr>\n",
       "  </thead>\n",
       "  <tbody>\n",
       "    <tr>\n",
       "      <th>1</th>\n",
       "      <td>HIV prevalence</td>\n",
       "      <td>United States</td>\n",
       "      <td>American Indian/Alaska Native</td>\n",
       "      <td>150.8</td>\n",
       "    </tr>\n",
       "    <tr>\n",
       "      <th>2</th>\n",
       "      <td>HIV prevalence</td>\n",
       "      <td>United States</td>\n",
       "      <td>Asian</td>\n",
       "      <td>87.3</td>\n",
       "    </tr>\n",
       "    <tr>\n",
       "      <th>3</th>\n",
       "      <td>HIV prevalence</td>\n",
       "      <td>United States</td>\n",
       "      <td>Black/African American</td>\n",
       "      <td>1238.3</td>\n",
       "    </tr>\n",
       "    <tr>\n",
       "      <th>4</th>\n",
       "      <td>HIV prevalence</td>\n",
       "      <td>United States</td>\n",
       "      <td>Hispanic/Latino</td>\n",
       "      <td>496.8</td>\n",
       "    </tr>\n",
       "    <tr>\n",
       "      <th>5</th>\n",
       "      <td>HIV prevalence</td>\n",
       "      <td>United States</td>\n",
       "      <td>Native Hawaiian/Other Pacific Islander</td>\n",
       "      <td>197.1</td>\n",
       "    </tr>\n",
       "    <tr>\n",
       "      <th>6</th>\n",
       "      <td>HIV prevalence</td>\n",
       "      <td>United States</td>\n",
       "      <td>White</td>\n",
       "      <td>174.2</td>\n",
       "    </tr>\n",
       "    <tr>\n",
       "      <th>7</th>\n",
       "      <td>HIV prevalence</td>\n",
       "      <td>United States</td>\n",
       "      <td>Multiple races</td>\n",
       "      <td>890.0</td>\n",
       "    </tr>\n",
       "  </tbody>\n",
       "</table>\n",
       "</div>"
      ],
      "text/plain": [
       "        Indicator      Geography                          Race/Ethnicity  \\\n",
       "1  HIV prevalence  United States           American Indian/Alaska Native   \n",
       "2  HIV prevalence  United States                                   Asian   \n",
       "3  HIV prevalence  United States                  Black/African American   \n",
       "4  HIV prevalence  United States                         Hispanic/Latino   \n",
       "5  HIV prevalence  United States  Native Hawaiian/Other Pacific Islander   \n",
       "6  HIV prevalence  United States                                   White   \n",
       "7  HIV prevalence  United States                          Multiple races   \n",
       "\n",
       "   Rate per 100000  \n",
       "1            150.8  \n",
       "2             87.3  \n",
       "3           1238.3  \n",
       "4            496.8  \n",
       "5            197.1  \n",
       "6            174.2  \n",
       "7            890.0  "
      ]
     },
     "execution_count": 233,
     "metadata": {},
     "output_type": "execute_result"
    }
   ],
   "source": [
    "us_prev_by_race = get_df(\"us-prev-race\") # Get prevalence data by race\n",
    "us_prev_by_race = us_prev_by_race[us_prev_by_race['Year'] == 2015]\n",
    "us_prev_by_race[['Indicator', 'Geography', 'Race/Ethnicity', 'Rate per 100000']]"
   ]
  },
  {
   "cell_type": "markdown",
   "metadata": {},
   "source": [
    "#### \"Black males in Connecticut were around nine times as likely as white males to be diagnosed with HIV in 2016.\""
   ]
  },
  {
   "cell_type": "code",
   "execution_count": 234,
   "metadata": {},
   "outputs": [
    {
     "name": "stdout",
     "output_type": "stream",
     "text": [
      "CT new diagnoses disparity ratio: black men / white men: 8.94915254237288\n"
     ]
    }
   ],
   "source": [
    "# Get prevalence data by race AND gender for CT in 2016\n",
    "newdx_rg = get_df('state-newdx-race-gender')\n",
    "ct_newdx_rg = newdx_rg[(newdx_rg['Geography'] == 'Connecticut') & (newdx_rg['Year'] == 2016)]\n",
    "\n",
    "# Get black male new diagnoses info\n",
    "ct_black_men = ct_newdx_rg[(ct_newdx_rg['Race/Ethnicity'] == 'Black/African American') \\\n",
    "                             & (ct_newdx_rg['Sex'] == 'Male')]\n",
    "# Get white male new diagnoses info\n",
    "ct_white_men = ct_newdx_rg[(ct_newdx_rg['Race/Ethnicity'] == 'White') \\\n",
    "                              & (ct_newdx_rg['Sex'] == 'Male')]\n",
    "\n",
    "ratio = pd.to_numeric(ct_black_men['Rate per 100000'].iloc[0]) / pd.to_numeric(ct_white_men['Rate per 100000'].iloc[0])\n",
    "\n",
    "print(\"CT new diagnoses disparity ratio: black men / white men: \" + str(ratio))"
   ]
  },
  {
   "cell_type": "markdown",
   "metadata": {},
   "source": [
    "#### \"... on par with the national disparity that exists between the two groups, and __similarly unchanged from 2008 to 2016.__\""
   ]
  },
  {
   "cell_type": "code",
   "execution_count": 236,
   "metadata": {},
   "outputs": [
    {
     "data": {
      "text/html": [
       "<div>\n",
       "<style scoped>\n",
       "    .dataframe tbody tr th:only-of-type {\n",
       "        vertical-align: middle;\n",
       "    }\n",
       "\n",
       "    .dataframe tbody tr th {\n",
       "        vertical-align: top;\n",
       "    }\n",
       "\n",
       "    .dataframe thead th {\n",
       "        text-align: right;\n",
       "    }\n",
       "</style>\n",
       "<table border=\"1\" class=\"dataframe\">\n",
       "  <thead>\n",
       "    <tr style=\"text-align: right;\">\n",
       "      <th></th>\n",
       "      <th>Rate</th>\n",
       "    </tr>\n",
       "    <tr>\n",
       "      <th>Year</th>\n",
       "      <th></th>\n",
       "    </tr>\n",
       "  </thead>\n",
       "  <tbody>\n",
       "    <tr>\n",
       "      <th>2008</th>\n",
       "      <td>74.8</td>\n",
       "    </tr>\n",
       "    <tr>\n",
       "      <th>2009</th>\n",
       "      <td>69.3</td>\n",
       "    </tr>\n",
       "    <tr>\n",
       "      <th>2010</th>\n",
       "      <td>64.8</td>\n",
       "    </tr>\n",
       "    <tr>\n",
       "      <th>2011</th>\n",
       "      <td>60.7</td>\n",
       "    </tr>\n",
       "    <tr>\n",
       "      <th>2012</th>\n",
       "      <td>57.4</td>\n",
       "    </tr>\n",
       "    <tr>\n",
       "      <th>2013</th>\n",
       "      <td>54.4</td>\n",
       "    </tr>\n",
       "    <tr>\n",
       "      <th>2014</th>\n",
       "      <td>53.9</td>\n",
       "    </tr>\n",
       "    <tr>\n",
       "      <th>2015</th>\n",
       "      <td>53.1</td>\n",
       "    </tr>\n",
       "    <tr>\n",
       "      <th>2016</th>\n",
       "      <td>52.9</td>\n",
       "    </tr>\n",
       "  </tbody>\n",
       "</table>\n",
       "</div>"
      ],
      "text/plain": [
       "      Rate\n",
       "Year      \n",
       "2008  74.8\n",
       "2009  69.3\n",
       "2010  64.8\n",
       "2011  60.7\n",
       "2012  57.4\n",
       "2013  54.4\n",
       "2014  53.9\n",
       "2015  53.1\n",
       "2016  52.9"
      ]
     },
     "execution_count": 236,
     "metadata": {},
     "output_type": "execute_result"
    }
   ],
   "source": [
    "# Get overall U.S. new diagnosis data for blacks and whites\n",
    "us_newdx_r = get_df(\"us-newdx-race\")\n",
    "black_newdx = us_newdx_r[us_newdx_r['Race/Ethnicity'] == 'Black/African American']\n",
    "white_newdx = us_newdx_r[us_newdx_r['Race/Ethnicity'] == 'White']\n",
    "\n",
    "# Create time series for each\n",
    "black_ts = time_series(black_newdx).transpose()\n",
    "white_ts = time_series(white_newdx).transpose()\n",
    "\n",
    "# Adjust columns\n",
    "black_ts.columns = ['Rate']\n",
    "white_ts.columns = ['Rate']\n",
    "\n",
    "# Convert rates to numerics\n",
    "black_ts['Rate'] = pd.to_numeric(black_ts['Rate'])\n",
    "white_ts['Rate'] = pd.to_numeric(white_ts['Rate'])\n",
    "\n",
    "black_ts"
   ]
  },
  {
   "cell_type": "code",
   "execution_count": 238,
   "metadata": {},
   "outputs": [
    {
     "name": "stdout",
     "output_type": "stream",
     "text": [
      "New diagnosis disparity ratios, black newdx rate / white newdx rate:\n",
      "\t2008 ratio: 9.842105263157896\n",
      "\t2009 ratio: 9.76056338028169\n",
      "\t2010 ratio: 9.529411764705882\n",
      "\t2011 ratio: 9.338461538461539\n",
      "\t2012 ratio: 8.830769230769231\n",
      "\t2013 ratio: 8.774193548387096\n",
      "\t2014 ratio: 8.693548387096774\n",
      "\t2015 ratio: 8.704918032786885\n",
      "\t2016 ratio: 8.816666666666666\n",
      "Notice how these ratios have not changed much from 2008 to 2016.\n"
     ]
    }
   ],
   "source": [
    "# Print out ratios for each year [2008, 2016]\n",
    "print(\"New diagnosis disparity ratios, black newdx rate / white newdx rate:\")\n",
    "for year in range(2008, 2017):\n",
    "    ratio = black_ts['Rate'][black_ts.index == year].iloc[0] / white_ts['Rate'][white_ts.index == year].iloc[0]\n",
    "    print(\"\\t\" + str(year) + \" ratio: \" + str(ratio))\n",
    "\n",
    "print(\"Notice how these ratios have not changed much from 2008 to 2016.\")"
   ]
  },
  {
   "cell_type": "markdown",
   "metadata": {},
   "source": [
    "#### \"In Connecticut, Hispanic males were around four times as likely as white males to be diagnosed with HIV.\"\n",
    "2015"
   ]
  },
  {
   "cell_type": "code",
   "execution_count": 240,
   "metadata": {},
   "outputs": [
    {
     "name": "stdout",
     "output_type": "stream",
     "text": [
      "CT disparity ratio, hispanic/Latino newdx / white newdx: 3.9864864864864864\n"
     ]
    }
   ],
   "source": [
    "# Get 2015 new diagnosis data for CT males\n",
    "state_newdx_rg = get_df('state-newdx-race-gender')\n",
    "state_newdx_rg = state_newdx_rg[(state_newdx_rg['Geography'] == 'Connecticut') & (state_newdx_rg['Year'] == 2015)\n",
    "                               & (state_newdx_rg['Sex'] == 'Male')]\n",
    "\n",
    "# Get white male newdx data\n",
    "ct_white_male_newdx = state_newdx_rg[state_newdx_rg['Race/Ethnicity'] == 'White']\n",
    "# Get hispanic/Latino male newdx data\n",
    "ct_hisp_male_newdx = state_newdx_rg[state_newdx_rg['Race/Ethnicity'] == 'Hispanic/Latino']\n",
    "\n",
    "# Calculate a disparity ratio, hispanic/Latino male newdx rate / white male newdx rate\n",
    "ratio = pd.to_numeric(ct_hisp_male_newdx['Rate per 100000'].iloc[0])\\\n",
    "            / pd.to_numeric(ct_white_male_newdx['Rate per 100000'].iloc[0])\n",
    "\n",
    "print(\"CT disparity ratio, hispanic/Latino newdx / white newdx: \" + str(ratio))"
   ]
  },
  {
   "cell_type": "markdown",
   "metadata": {},
   "source": [
    "#### Same ratio, but for 2016:"
   ]
  },
  {
   "cell_type": "code",
   "execution_count": 243,
   "metadata": {},
   "outputs": [
    {
     "name": "stdout",
     "output_type": "stream",
     "text": [
      "CT disparity ratio, hispanic/Latino newdx / white newdx: 4.728813559322034\n"
     ]
    }
   ],
   "source": [
    "# Do the same, but with 2016 data\n",
    "state_newdx_rg = get_df('state-newdx-race-gender')\n",
    "state_newdx_rg = state_newdx_rg[(state_newdx_rg['Geography'] == 'Connecticut') & (state_newdx_rg['Year'] == 2016)\n",
    "                               & (state_newdx_rg['Sex'] == 'Male')]\n",
    "\n",
    "# Get white male newdx data\n",
    "ct_white_male_newdx = state_newdx_rg[state_newdx_rg['Race/Ethnicity'] == 'White']\n",
    "# Get hispanic/Latino male newdx data\n",
    "ct_hisp_male_newdx = state_newdx_rg[state_newdx_rg['Race/Ethnicity'] == 'Hispanic/Latino']\n",
    "\n",
    "# Calculate a disparity ratio, hispanic/Latino male newdx rate / white male newdx rate\n",
    "ratio = pd.to_numeric(ct_hisp_male_newdx['Rate per 100000'].iloc[0])\\\n",
    "            / pd.to_numeric(ct_white_male_newdx['Rate per 100000'].iloc[0])\n",
    "\n",
    "print(\"CT disparity ratio, hispanic/Latino newdx / white newdx: \" + str(ratio))"
   ]
  },
  {
   "cell_type": "markdown",
   "metadata": {},
   "source": [
    "#### \"In Connecticut, more than 60 percent of HIV diagnoses in 2016 were transmitted by men having sex with men, compared with other transmissions.\""
   ]
  },
  {
   "cell_type": "code",
   "execution_count": 246,
   "metadata": {},
   "outputs": [
    {
     "name": "stdout",
     "output_type": "stream",
     "text": [
      "Percent MSM: 61.354581673306775\n"
     ]
    }
   ],
   "source": [
    "# Get 2016 diagnosis transmission data for CT\n",
    "state_transmission = get_df('state-newdx-transmission-overall')\n",
    "ct_transmission = state_transmission[(state_transmission['Year'] == 2016) \\\n",
    "                                     & (state_transmission['Geography'] == 'Connecticut')]\n",
    "\n",
    "ct_transmission['Cases'] = pd.to_numeric(ct_transmission['Cases']) # convert to numeric\n",
    "\n",
    "# Calculate total count, MSM (Men who have Sex with Men) count\n",
    "total_cases = ct_transmission['Cases'].sum()\n",
    "cases_msm = ct_transmission[ct_transmission['Transmission Category'] == 'Male-to-male sexual contact']\n",
    "cases_msm = pd.to_numeric(cases_msm['Cases'].iloc[0])\n",
    "\n",
    "# Calculate a percentage\n",
    "pct_msm = cases_msm / total_cases * 100\n",
    "print(\"Percent MSM: \" + str(pct_msm))"
   ]
  },
  {
   "cell_type": "markdown",
   "metadata": {},
   "source": [
    "#### \"The number of diagnoses of men having sex with men has not decreased since 2008...\""
   ]
  },
  {
   "cell_type": "code",
   "execution_count": 248,
   "metadata": {},
   "outputs": [
    {
     "data": {
      "text/html": [
       "<div>\n",
       "<style scoped>\n",
       "    .dataframe tbody tr th:only-of-type {\n",
       "        vertical-align: middle;\n",
       "    }\n",
       "\n",
       "    .dataframe tbody tr th {\n",
       "        vertical-align: top;\n",
       "    }\n",
       "\n",
       "    .dataframe thead th {\n",
       "        text-align: right;\n",
       "    }\n",
       "</style>\n",
       "<table border=\"1\" class=\"dataframe\">\n",
       "  <thead>\n",
       "    <tr style=\"text-align: right;\">\n",
       "      <th>Year</th>\n",
       "      <th>2008</th>\n",
       "      <th>2009</th>\n",
       "      <th>2010</th>\n",
       "      <th>2011</th>\n",
       "      <th>2012</th>\n",
       "      <th>2013</th>\n",
       "      <th>2014</th>\n",
       "      <th>2015</th>\n",
       "      <th>2016</th>\n",
       "    </tr>\n",
       "    <tr>\n",
       "      <th>Geography</th>\n",
       "      <th></th>\n",
       "      <th></th>\n",
       "      <th></th>\n",
       "      <th></th>\n",
       "      <th></th>\n",
       "      <th></th>\n",
       "      <th></th>\n",
       "      <th></th>\n",
       "      <th></th>\n",
       "    </tr>\n",
       "  </thead>\n",
       "  <tbody>\n",
       "    <tr>\n",
       "      <th>Connecticut</th>\n",
       "      <td>152</td>\n",
       "      <td>169</td>\n",
       "      <td>172</td>\n",
       "      <td>190</td>\n",
       "      <td>149</td>\n",
       "      <td>185</td>\n",
       "      <td>145</td>\n",
       "      <td>147</td>\n",
       "      <td>154</td>\n",
       "    </tr>\n",
       "  </tbody>\n",
       "</table>\n",
       "</div>"
      ],
      "text/plain": [
       "Year         2008  2009  2010  2011  2012  2013  2014  2015  2016\n",
       "Geography                                                        \n",
       "Connecticut   152   169   172   190   149   185   145   147   154"
      ]
     },
     "execution_count": 248,
     "metadata": {},
     "output_type": "execute_result"
    }
   ],
   "source": [
    "ct_transmission = state_transmission[state_transmission['Geography'] == 'Connecticut']\n",
    "ct_msm_transmission = ct_transmission[ct_transmission['Transmission Category'] == 'Male-to-male sexual contact']\n",
    "ct_msm_transmission['Cases'] = pd.to_numeric(ct_msm_transmission['Cases'])\n",
    "time_series(ct_msm_transmission, vals='Cases')"
   ]
  },
  {
   "cell_type": "markdown",
   "metadata": {},
   "source": [
    "#### \"... and all of the progress in reducing Connecticut's overall diagnosis srates has been among heterosexual contact, injectable drug use and other causes.\""
   ]
  },
  {
   "cell_type": "code",
   "execution_count": 249,
   "metadata": {},
   "outputs": [
    {
     "data": {
      "text/html": [
       "<div>\n",
       "<style scoped>\n",
       "    .dataframe tbody tr th:only-of-type {\n",
       "        vertical-align: middle;\n",
       "    }\n",
       "\n",
       "    .dataframe tbody tr th {\n",
       "        vertical-align: top;\n",
       "    }\n",
       "\n",
       "    .dataframe thead th {\n",
       "        text-align: right;\n",
       "    }\n",
       "</style>\n",
       "<table border=\"1\" class=\"dataframe\">\n",
       "  <thead>\n",
       "    <tr style=\"text-align: right;\">\n",
       "      <th>Year</th>\n",
       "      <th>2008</th>\n",
       "      <th>2009</th>\n",
       "      <th>2010</th>\n",
       "      <th>2011</th>\n",
       "      <th>2012</th>\n",
       "      <th>2013</th>\n",
       "      <th>2014</th>\n",
       "      <th>2015</th>\n",
       "      <th>2016</th>\n",
       "    </tr>\n",
       "    <tr>\n",
       "      <th>Geography</th>\n",
       "      <th></th>\n",
       "      <th></th>\n",
       "      <th></th>\n",
       "      <th></th>\n",
       "      <th></th>\n",
       "      <th></th>\n",
       "      <th></th>\n",
       "      <th></th>\n",
       "      <th></th>\n",
       "    </tr>\n",
       "  </thead>\n",
       "  <tbody>\n",
       "    <tr>\n",
       "      <th>Connecticut</th>\n",
       "      <td>138</td>\n",
       "      <td>122</td>\n",
       "      <td>153</td>\n",
       "      <td>121</td>\n",
       "      <td>94</td>\n",
       "      <td>103</td>\n",
       "      <td>106</td>\n",
       "      <td>100</td>\n",
       "      <td>65</td>\n",
       "    </tr>\n",
       "  </tbody>\n",
       "</table>\n",
       "</div>"
      ],
      "text/plain": [
       "Year         2008  2009  2010  2011  2012  2013  2014  2015  2016\n",
       "Geography                                                        \n",
       "Connecticut   138   122   153   121    94   103   106   100    65"
      ]
     },
     "execution_count": 249,
     "metadata": {},
     "output_type": "execute_result"
    }
   ],
   "source": [
    "# Transmission via heterosexual contact has generally decreased over time\n",
    "ct_hc_transmission = ct_transmission[ct_transmission['Transmission Category'] == 'Heterosexual contact']\n",
    "ct_hc_transmission['Cases'] = pd.to_numeric(ct_hc_transmission['Cases'])\n",
    "time_series(ct_hc_transmission, vals='Cases')"
   ]
  },
  {
   "cell_type": "code",
   "execution_count": 250,
   "metadata": {},
   "outputs": [
    {
     "data": {
      "text/html": [
       "<div>\n",
       "<style scoped>\n",
       "    .dataframe tbody tr th:only-of-type {\n",
       "        vertical-align: middle;\n",
       "    }\n",
       "\n",
       "    .dataframe tbody tr th {\n",
       "        vertical-align: top;\n",
       "    }\n",
       "\n",
       "    .dataframe thead th {\n",
       "        text-align: right;\n",
       "    }\n",
       "</style>\n",
       "<table border=\"1\" class=\"dataframe\">\n",
       "  <thead>\n",
       "    <tr style=\"text-align: right;\">\n",
       "      <th>Year</th>\n",
       "      <th>2008</th>\n",
       "      <th>2009</th>\n",
       "      <th>2010</th>\n",
       "      <th>2011</th>\n",
       "      <th>2012</th>\n",
       "      <th>2013</th>\n",
       "      <th>2014</th>\n",
       "      <th>2015</th>\n",
       "      <th>2016</th>\n",
       "    </tr>\n",
       "    <tr>\n",
       "      <th>Geography</th>\n",
       "      <th></th>\n",
       "      <th></th>\n",
       "      <th></th>\n",
       "      <th></th>\n",
       "      <th></th>\n",
       "      <th></th>\n",
       "      <th></th>\n",
       "      <th></th>\n",
       "      <th></th>\n",
       "    </tr>\n",
       "  </thead>\n",
       "  <tbody>\n",
       "    <tr>\n",
       "      <th>Connecticut</th>\n",
       "      <td>54</td>\n",
       "      <td>58</td>\n",
       "      <td>65</td>\n",
       "      <td>39</td>\n",
       "      <td>40</td>\n",
       "      <td>35</td>\n",
       "      <td>30</td>\n",
       "      <td>16</td>\n",
       "      <td>25</td>\n",
       "    </tr>\n",
       "  </tbody>\n",
       "</table>\n",
       "</div>"
      ],
      "text/plain": [
       "Year         2008  2009  2010  2011  2012  2013  2014  2015  2016\n",
       "Geography                                                        \n",
       "Connecticut    54    58    65    39    40    35    30    16    25"
      ]
     },
     "execution_count": 250,
     "metadata": {},
     "output_type": "execute_result"
    }
   ],
   "source": [
    "# Transmission via injectable drug use has generally decreased over time\n",
    "ct_idu_transmission = ct_transmission[ct_transmission['Transmission Category'] == 'Injection drug use']\n",
    "ct_idu_transmission['Cases'] = pd.to_numeric(ct_idu_transmission['Cases'])\n",
    "time_series(ct_idu_transmission, vals='Cases')"
   ]
  },
  {
   "cell_type": "code",
   "execution_count": 251,
   "metadata": {},
   "outputs": [
    {
     "data": {
      "text/html": [
       "<div>\n",
       "<style scoped>\n",
       "    .dataframe tbody tr th:only-of-type {\n",
       "        vertical-align: middle;\n",
       "    }\n",
       "\n",
       "    .dataframe tbody tr th {\n",
       "        vertical-align: top;\n",
       "    }\n",
       "\n",
       "    .dataframe thead th {\n",
       "        text-align: right;\n",
       "    }\n",
       "</style>\n",
       "<table border=\"1\" class=\"dataframe\">\n",
       "  <thead>\n",
       "    <tr style=\"text-align: right;\">\n",
       "      <th>Year</th>\n",
       "      <th>2008</th>\n",
       "      <th>2009</th>\n",
       "      <th>2010</th>\n",
       "      <th>2011</th>\n",
       "      <th>2012</th>\n",
       "      <th>2013</th>\n",
       "      <th>2014</th>\n",
       "      <th>2015</th>\n",
       "      <th>2016</th>\n",
       "    </tr>\n",
       "    <tr>\n",
       "      <th>Geography</th>\n",
       "      <th></th>\n",
       "      <th></th>\n",
       "      <th></th>\n",
       "      <th></th>\n",
       "      <th></th>\n",
       "      <th></th>\n",
       "      <th></th>\n",
       "      <th></th>\n",
       "      <th></th>\n",
       "    </tr>\n",
       "  </thead>\n",
       "  <tbody>\n",
       "    <tr>\n",
       "      <th>Connecticut</th>\n",
       "      <td>1</td>\n",
       "      <td>2</td>\n",
       "      <td>0</td>\n",
       "      <td>1</td>\n",
       "      <td>1</td>\n",
       "      <td>1</td>\n",
       "      <td>1</td>\n",
       "      <td>0</td>\n",
       "      <td>0</td>\n",
       "    </tr>\n",
       "  </tbody>\n",
       "</table>\n",
       "</div>"
      ],
      "text/plain": [
       "Year         2008  2009  2010  2011  2012  2013  2014  2015  2016\n",
       "Geography                                                        \n",
       "Connecticut     1     2     0     1     1     1     1     0     0"
      ]
     },
     "execution_count": 251,
     "metadata": {},
     "output_type": "execute_result"
    }
   ],
   "source": [
    "# Diagnoses by other forms of transmission have generally decreased over time\n",
    "ct_other_transmission = ct_transmission[ct_transmission['Transmission Category'] == 'Other']\n",
    "ct_other_transmission['Cases'] = pd.to_numeric(ct_other_transmission['Cases'])\n",
    "time_series(ct_other_transmission, vals='Cases')"
   ]
  }
 ],
 "metadata": {
  "kernelspec": {
   "display_name": "Python 3",
   "language": "python",
   "name": "python3"
  },
  "language_info": {
   "codemirror_mode": {
    "name": "ipython",
    "version": 3
   },
   "file_extension": ".py",
   "mimetype": "text/x-python",
   "name": "python",
   "nbconvert_exporter": "python",
   "pygments_lexer": "ipython3",
   "version": "3.6.5"
  }
 },
 "nbformat": 4,
 "nbformat_minor": 2
}
